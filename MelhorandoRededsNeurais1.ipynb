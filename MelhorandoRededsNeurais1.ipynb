{
  "nbformat": 4,
  "nbformat_minor": 0,
  "metadata": {
    "colab": {
      "provenance": [],
      "authorship_tag": "ABX9TyMJGd9b8RmLpEbzhaAUsUES",
      "include_colab_link": true
    },
    "kernelspec": {
      "name": "python3",
      "display_name": "Python 3"
    },
    "language_info": {
      "name": "python"
    }
  },
  "cells": [
    {
      "cell_type": "markdown",
      "metadata": {
        "id": "view-in-github",
        "colab_type": "text"
      },
      "source": [
        "<a href=\"https://colab.research.google.com/github/viferraro/DeepLearning/blob/main/MelhorandoRededsNeurais1.ipynb\" target=\"_parent\"><img src=\"https://colab.research.google.com/assets/colab-badge.svg\" alt=\"Open In Colab\"/></a>"
      ]
    },
    {
      "cell_type": "code",
      "execution_count": 4,
      "metadata": {
        "colab": {
          "base_uri": "https://localhost:8080/",
          "height": 283
        },
        "id": "zikWPcntDjwh",
        "outputId": "678f4872-b05b-4819-ba60-ad507ea474b0"
      },
      "outputs": [
        {
          "output_type": "stream",
          "name": "stdout",
          "text": [
            "1/1 [==============================] - 0s 38ms/step\n"
          ]
        },
        {
          "output_type": "display_data",
          "data": {
            "text/plain": [
              "<Figure size 432x288 with 1 Axes>"
            ],
            "image/png": "[encoded data removed]"
          },
          "metadata": {
            "needs_background": "light"
          }
        }
      ],
      "source": [
        "import numpy as np\n",
        "import matplotlib.pyplot as plt\n",
        "from keras import Sequential\n",
        "from keras.layers import Dense, Activation\n",
        "from keras.initializers import Zeros, RandomNormal\n",
        "from keras.initializers import glorot_normal, glorot_uniform\n",
        "\n",
        "n_input = 784\n",
        "n_dense = 256\n",
        "\n",
        "b_init = Zeros()\n",
        "\n",
        "w_init = glorot_normal()\n",
        "\n",
        "#w_init = RandomNormal(stddev=1.0)\n",
        "\n",
        "model = Sequential()\n",
        "model.add(Dense(n_dense,\n",
        "input_dim=n_input,\n",
        "kernel_initializer=w_init,\n",
        "bias_initializer=b_init))\n",
        "model.add(Activation('sigmoid'))\n",
        "\n",
        "\n",
        "x = np.random.random((1,n_input))\n",
        "\n",
        "a = model.predict(x)\n",
        "\n",
        "_ = plt.hist(np.transpose(a))\n"
      ]
    }
  ]
}